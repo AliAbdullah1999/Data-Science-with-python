{
 "cells": [
  {
   "cell_type": "code",
   "execution_count": 1,
   "id": "practical-observation",
   "metadata": {},
   "outputs": [],
   "source": [
    "import pandas as pd\n",
    "import numpy as np\n",
    "import matplotlib.pyplot as plt\n",
    "import seaborn as sns"
   ]
  },
  {
   "cell_type": "code",
   "execution_count": 2,
   "id": "alive-centre",
   "metadata": {},
   "outputs": [
    {
     "data": {
      "text/html": [
       "<div>\n",
       "<style scoped>\n",
       "    .dataframe tbody tr th:only-of-type {\n",
       "        vertical-align: middle;\n",
       "    }\n",
       "\n",
       "    .dataframe tbody tr th {\n",
       "        vertical-align: top;\n",
       "    }\n",
       "\n",
       "    .dataframe thead th {\n",
       "        text-align: right;\n",
       "    }\n",
       "</style>\n",
       "<table border=\"1\" class=\"dataframe\">\n",
       "  <thead>\n",
       "    <tr style=\"text-align: right;\">\n",
       "      <th></th>\n",
       "      <th>restaurant name</th>\n",
       "      <th>cost</th>\n",
       "      <th>collections</th>\n",
       "      <th>cuisines</th>\n",
       "      <th>operating timings</th>\n",
       "    </tr>\n",
       "  </thead>\n",
       "  <tbody>\n",
       "    <tr>\n",
       "      <th>0</th>\n",
       "      <td>Beyond Flavours</td>\n",
       "      <td>800</td>\n",
       "      <td>Food Hygiene Rated Restaurants in Hyderabad, C...</td>\n",
       "      <td>Chinese, Continental, Kebab, European, South I...</td>\n",
       "      <td>12noon to 3:30pm, 6:30pm to 11:30pm (Mon-Sun)</td>\n",
       "    </tr>\n",
       "    <tr>\n",
       "      <th>1</th>\n",
       "      <td>Paradise</td>\n",
       "      <td>800</td>\n",
       "      <td>Hyderabad's Hottest</td>\n",
       "      <td>Biryani, North Indian, Chinese</td>\n",
       "      <td>11 AM to 11 PM</td>\n",
       "    </tr>\n",
       "    <tr>\n",
       "      <th>2</th>\n",
       "      <td>Flechazo</td>\n",
       "      <td>1300</td>\n",
       "      <td>Great Buffets, Hyderabad's Hottest</td>\n",
       "      <td>Asian, Mediterranean, North Indian, Desserts</td>\n",
       "      <td>11:30 AM to 4:30 PM, 6:30 PM to 11 PM</td>\n",
       "    </tr>\n",
       "    <tr>\n",
       "      <th>3</th>\n",
       "      <td>Shah Ghouse Hotel &amp; Restaurant</td>\n",
       "      <td>800</td>\n",
       "      <td>Late Night Restaurants</td>\n",
       "      <td>Biryani, North Indian, Chinese, Seafood, Bever...</td>\n",
       "      <td>12 Noon to 2 AM</td>\n",
       "    </tr>\n",
       "    <tr>\n",
       "      <th>4</th>\n",
       "      <td>Over The Moon Brew Company</td>\n",
       "      <td>1200</td>\n",
       "      <td>Best Bars &amp; Pubs, Food Hygiene Rated Restauran...</td>\n",
       "      <td>Asian, Continental, North Indian, Chinese, Med...</td>\n",
       "      <td>12noon to 11pm (Mon, Tue, Wed, Thu, Sun), 12no...</td>\n",
       "    </tr>\n",
       "    <tr>\n",
       "      <th>...</th>\n",
       "      <td>...</td>\n",
       "      <td>...</td>\n",
       "      <td>...</td>\n",
       "      <td>...</td>\n",
       "      <td>...</td>\n",
       "    </tr>\n",
       "    <tr>\n",
       "      <th>100</th>\n",
       "      <td>IndiBlaze</td>\n",
       "      <td>600</td>\n",
       "      <td>NaN</td>\n",
       "      <td>Fast Food, Salad</td>\n",
       "      <td>11 AM to 11 PM</td>\n",
       "    </tr>\n",
       "    <tr>\n",
       "      <th>101</th>\n",
       "      <td>Sweet Basket</td>\n",
       "      <td>200</td>\n",
       "      <td>NaN</td>\n",
       "      <td>Bakery, Mithai</td>\n",
       "      <td>10 AM to 10 PM (Mon-Thu), 8 AM to 10:30 PM (Fr...</td>\n",
       "    </tr>\n",
       "    <tr>\n",
       "      <th>102</th>\n",
       "      <td>Angaara Counts 3</td>\n",
       "      <td>500</td>\n",
       "      <td>NaN</td>\n",
       "      <td>North Indian, Biryani, Chinese</td>\n",
       "      <td>12 Noon to 11 PM</td>\n",
       "    </tr>\n",
       "    <tr>\n",
       "      <th>103</th>\n",
       "      <td>Wich Please</td>\n",
       "      <td>250</td>\n",
       "      <td>NaN</td>\n",
       "      <td>Fast Food</td>\n",
       "      <td>8am to 12:30AM (Mon-Sun)</td>\n",
       "    </tr>\n",
       "    <tr>\n",
       "      <th>104</th>\n",
       "      <td>Republic Of Noodles - Lemon Tree Hotel</td>\n",
       "      <td>1700</td>\n",
       "      <td>Pan-Asian Delicacies</td>\n",
       "      <td>Thai, Asian, Chinese, Malaysian</td>\n",
       "      <td>11:30 AM to 3 PM, 7 PM to 12 Midnight</td>\n",
       "    </tr>\n",
       "  </tbody>\n",
       "</table>\n",
       "<p>105 rows × 5 columns</p>\n",
       "</div>"
      ],
      "text/plain": [
       "                            restaurant name  cost  \\\n",
       "0                           Beyond Flavours   800   \n",
       "1                                  Paradise   800   \n",
       "2                                  Flechazo  1300   \n",
       "3            Shah Ghouse Hotel & Restaurant   800   \n",
       "4                Over The Moon Brew Company  1200   \n",
       "..                                      ...   ...   \n",
       "100                               IndiBlaze   600   \n",
       "101                            Sweet Basket   200   \n",
       "102                        Angaara Counts 3   500   \n",
       "103                             Wich Please   250   \n",
       "104  Republic Of Noodles - Lemon Tree Hotel  1700   \n",
       "\n",
       "                                           collections  \\\n",
       "0    Food Hygiene Rated Restaurants in Hyderabad, C...   \n",
       "1                                  Hyderabad's Hottest   \n",
       "2                   Great Buffets, Hyderabad's Hottest   \n",
       "3                               Late Night Restaurants   \n",
       "4    Best Bars & Pubs, Food Hygiene Rated Restauran...   \n",
       "..                                                 ...   \n",
       "100                                                NaN   \n",
       "101                                                NaN   \n",
       "102                                                NaN   \n",
       "103                                                NaN   \n",
       "104                               Pan-Asian Delicacies   \n",
       "\n",
       "                                              cuisines  \\\n",
       "0    Chinese, Continental, Kebab, European, South I...   \n",
       "1                       Biryani, North Indian, Chinese   \n",
       "2         Asian, Mediterranean, North Indian, Desserts   \n",
       "3    Biryani, North Indian, Chinese, Seafood, Bever...   \n",
       "4    Asian, Continental, North Indian, Chinese, Med...   \n",
       "..                                                 ...   \n",
       "100                                   Fast Food, Salad   \n",
       "101                                     Bakery, Mithai   \n",
       "102                     North Indian, Biryani, Chinese   \n",
       "103                                          Fast Food   \n",
       "104                    Thai, Asian, Chinese, Malaysian   \n",
       "\n",
       "                                     operating timings  \n",
       "0        12noon to 3:30pm, 6:30pm to 11:30pm (Mon-Sun)  \n",
       "1                                       11 AM to 11 PM  \n",
       "2                11:30 AM to 4:30 PM, 6:30 PM to 11 PM  \n",
       "3                                      12 Noon to 2 AM  \n",
       "4    12noon to 11pm (Mon, Tue, Wed, Thu, Sun), 12no...  \n",
       "..                                                 ...  \n",
       "100                                     11 AM to 11 PM  \n",
       "101  10 AM to 10 PM (Mon-Thu), 8 AM to 10:30 PM (Fr...  \n",
       "102                                   12 Noon to 11 PM  \n",
       "103                           8am to 12:30AM (Mon-Sun)  \n",
       "104              11:30 AM to 3 PM, 7 PM to 12 Midnight  \n",
       "\n",
       "[105 rows x 5 columns]"
      ]
     },
     "execution_count": 2,
     "metadata": {},
     "output_type": "execute_result"
    }
   ],
   "source": [
    "data =pd.read_csv('hotel.csv')\n",
    "data"
   ]
  },
  {
   "cell_type": "code",
   "execution_count": 3,
   "id": "authorized-crazy",
   "metadata": {},
   "outputs": [
    {
     "data": {
      "text/plain": [
       "(105, 5)"
      ]
     },
     "execution_count": 3,
     "metadata": {},
     "output_type": "execute_result"
    }
   ],
   "source": [
    "data.shape\n"
   ]
  },
  {
   "cell_type": "code",
   "execution_count": 4,
   "id": "downtown-desire",
   "metadata": {},
   "outputs": [
    {
     "name": "stdout",
     "output_type": "stream",
     "text": [
      "<class 'pandas.core.frame.DataFrame'>\n",
      "RangeIndex: 105 entries, 0 to 104\n",
      "Data columns (total 5 columns):\n",
      " #   Column             Non-Null Count  Dtype \n",
      "---  ------             --------------  ----- \n",
      " 0   restaurant name    105 non-null    object\n",
      " 1   cost               105 non-null    int64 \n",
      " 2   collections        51 non-null     object\n",
      " 3   cuisines           105 non-null    object\n",
      " 4   operating timings  104 non-null    object\n",
      "dtypes: int64(1), object(4)\n",
      "memory usage: 4.2+ KB\n"
     ]
    }
   ],
   "source": [
    "data.info()"
   ]
  },
  {
   "cell_type": "code",
   "execution_count": 5,
   "id": "surrounded-calculation",
   "metadata": {},
   "outputs": [
    {
     "data": {
      "text/plain": [
       "<AxesSubplot:>"
      ]
     },
     "execution_count": 5,
     "metadata": {},
     "output_type": "execute_result"
    },
    {
     "data": {
      "image/png": "[encoded data removed]",
      "text/plain": [
       "<Figure size 432x288 with 1 Axes>"
      ]
     },
     "metadata": {
      "needs_background": "light"
     },
     "output_type": "display_data"
    }
   ],
   "source": [
    "data.isnull().count().plot()"
   ]
  },
  {
   "cell_type": "code",
   "execution_count": 6,
   "id": "judicial-pearl",
   "metadata": {},
   "outputs": [
    {
     "data": {
      "text/plain": [
       "False"
      ]
     },
     "execution_count": 6,
     "metadata": {},
     "output_type": "execute_result"
    }
   ],
   "source": [
    "data['cost'].isnull().any()"
   ]
  },
  {
   "cell_type": "code",
   "execution_count": 7,
   "id": "naked-necessity",
   "metadata": {
    "scrolled": true
   },
   "outputs": [
    {
     "data": {
      "text/plain": [
       "True"
      ]
     },
     "execution_count": 7,
     "metadata": {},
     "output_type": "execute_result"
    }
   ],
   "source": [
    "missing_collections = data['collections'].isnull().any()\n",
    "missing_collections"
   ]
  },
  {
   "cell_type": "code",
   "execution_count": 8,
   "id": "medium-january",
   "metadata": {},
   "outputs": [],
   "source": [
    "data.replace(np.nan,data['collections'].mode(),inplace = True)"
   ]
  },
  {
   "cell_type": "code",
   "execution_count": 9,
   "id": "herbal-advocacy",
   "metadata": {},
   "outputs": [
    {
     "data": {
      "text/plain": [
       "True"
      ]
     },
     "execution_count": 9,
     "metadata": {},
     "output_type": "execute_result"
    }
   ],
   "source": [
    "missing_operating_timings = data['operating timings'].isnull().any()\n",
    "missing_operating_timings"
   ]
  },
  {
   "cell_type": "code",
   "execution_count": 10,
   "id": "atlantic-absence",
   "metadata": {},
   "outputs": [],
   "source": [
    "data.replace(np.nan,data['operating timings'].mode(),inplace = True)"
   ]
  },
  {
   "cell_type": "code",
   "execution_count": 11,
   "id": "continental-nigeria",
   "metadata": {},
   "outputs": [
    {
     "data": {
      "text/html": [
       "<div>\n",
       "<style scoped>\n",
       "    .dataframe tbody tr th:only-of-type {\n",
       "        vertical-align: middle;\n",
       "    }\n",
       "\n",
       "    .dataframe tbody tr th {\n",
       "        vertical-align: top;\n",
       "    }\n",
       "\n",
       "    .dataframe thead th {\n",
       "        text-align: right;\n",
       "    }\n",
       "</style>\n",
       "<table border=\"1\" class=\"dataframe\">\n",
       "  <thead>\n",
       "    <tr style=\"text-align: right;\">\n",
       "      <th></th>\n",
       "      <th>cost</th>\n",
       "    </tr>\n",
       "  </thead>\n",
       "  <tbody>\n",
       "    <tr>\n",
       "      <th>count</th>\n",
       "      <td>105.000000</td>\n",
       "    </tr>\n",
       "    <tr>\n",
       "      <th>mean</th>\n",
       "      <td>861.428571</td>\n",
       "    </tr>\n",
       "    <tr>\n",
       "      <th>std</th>\n",
       "      <td>510.149730</td>\n",
       "    </tr>\n",
       "    <tr>\n",
       "      <th>min</th>\n",
       "      <td>150.000000</td>\n",
       "    </tr>\n",
       "    <tr>\n",
       "      <th>25%</th>\n",
       "      <td>500.000000</td>\n",
       "    </tr>\n",
       "    <tr>\n",
       "      <th>50%</th>\n",
       "      <td>700.000000</td>\n",
       "    </tr>\n",
       "    <tr>\n",
       "      <th>75%</th>\n",
       "      <td>1200.000000</td>\n",
       "    </tr>\n",
       "    <tr>\n",
       "      <th>max</th>\n",
       "      <td>2800.000000</td>\n",
       "    </tr>\n",
       "  </tbody>\n",
       "</table>\n",
       "</div>"
      ],
      "text/plain": [
       "              cost\n",
       "count   105.000000\n",
       "mean    861.428571\n",
       "std     510.149730\n",
       "min     150.000000\n",
       "25%     500.000000\n",
       "50%     700.000000\n",
       "75%    1200.000000\n",
       "max    2800.000000"
      ]
     },
     "execution_count": 11,
     "metadata": {},
     "output_type": "execute_result"
    }
   ],
   "source": [
    "data.describe()"
   ]
  },
  {
   "cell_type": "code",
   "execution_count": 12,
   "id": "recovered-isolation",
   "metadata": {},
   "outputs": [
    {
     "data": {
      "image/png": "[encoded data removed]",
      "text/plain": [
       "<Figure size 576x576 with 1 Axes>"
      ]
     },
     "metadata": {
      "needs_background": "light"
     },
     "output_type": "display_data"
    }
   ],
   "source": [
    "data.hist(figsize=(8, 8), bins=20, xlabelsize=8, ylabelsize=8);"
   ]
  },
  {
   "cell_type": "code",
   "execution_count": 13,
   "id": "global-words",
   "metadata": {},
   "outputs": [
    {
     "data": {
      "text/plain": [
       "restaurant name      object\n",
       "cost                  int64\n",
       "collections          object\n",
       "cuisines             object\n",
       "operating timings    object\n",
       "dtype: object"
      ]
     },
     "execution_count": 13,
     "metadata": {},
     "output_type": "execute_result"
    }
   ],
   "source": [
    "data.dtypes"
   ]
  },
  {
   "cell_type": "code",
   "execution_count": 14,
   "id": "hungry-arbor",
   "metadata": {},
   "outputs": [
    {
     "data": {
      "text/plain": [
       "restaurant name      105\n",
       "cost                  29\n",
       "collections           42\n",
       "cuisines              92\n",
       "operating timings     77\n",
       "dtype: int64"
      ]
     },
     "execution_count": 14,
     "metadata": {},
     "output_type": "execute_result"
    }
   ],
   "source": [
    "data.nunique()"
   ]
  },
  {
   "cell_type": "code",
   "execution_count": 15,
   "id": "rural-citation",
   "metadata": {},
   "outputs": [
    {
     "data": {
      "text/plain": [
       "restaurant name       0\n",
       "cost                  0\n",
       "collections          54\n",
       "cuisines              0\n",
       "operating timings     1\n",
       "dtype: int64"
      ]
     },
     "execution_count": 15,
     "metadata": {},
     "output_type": "execute_result"
    }
   ],
   "source": [
    "data.apply(lambda x: sum(x.isnull()),axis=0)\n"
   ]
  },
  {
   "cell_type": "code",
   "execution_count": 16,
   "id": "hearing-cookie",
   "metadata": {},
   "outputs": [
    {
     "name": "stdout",
     "output_type": "stream",
     "text": [
      "AxesSubplot(0.125,0.125;0.775x0.755)\n"
     ]
    },
    {
     "data": {
      "image/png": "[encoded data removed]",
      "text/plain": [
       "<Figure size 432x288 with 1 Axes>"
      ]
     },
     "metadata": {
      "needs_background": "light"
     },
     "output_type": "display_data"
    }
   ],
   "source": [
    "print(data.boxplot(column='cost'))\n"
   ]
  },
  {
   "cell_type": "code",
   "execution_count": 17,
   "id": "patent-apparel",
   "metadata": {},
   "outputs": [
    {
     "data": {
      "text/html": [
       "<div>\n",
       "<style scoped>\n",
       "    .dataframe tbody tr th:only-of-type {\n",
       "        vertical-align: middle;\n",
       "    }\n",
       "\n",
       "    .dataframe tbody tr th {\n",
       "        vertical-align: top;\n",
       "    }\n",
       "\n",
       "    .dataframe thead th {\n",
       "        text-align: right;\n",
       "    }\n",
       "</style>\n",
       "<table border=\"1\" class=\"dataframe\">\n",
       "  <thead>\n",
       "    <tr style=\"text-align: right;\">\n",
       "      <th></th>\n",
       "      <th>restaurant name</th>\n",
       "      <th>cost</th>\n",
       "      <th>collections</th>\n",
       "      <th>cuisines</th>\n",
       "      <th>operating timings</th>\n",
       "    </tr>\n",
       "  </thead>\n",
       "  <tbody>\n",
       "    <tr>\n",
       "      <th>0</th>\n",
       "      <td>Beyond Flavours</td>\n",
       "      <td>800</td>\n",
       "      <td>Food Hygiene Rated Restaurants in Hyderabad, C...</td>\n",
       "      <td>Chinese, Continental, Kebab, European, South I...</td>\n",
       "      <td>12noon to 3:30pm, 6:30pm to 11:30pm (Mon-Sun)</td>\n",
       "    </tr>\n",
       "    <tr>\n",
       "      <th>1</th>\n",
       "      <td>Paradise</td>\n",
       "      <td>800</td>\n",
       "      <td>Hyderabad's Hottest</td>\n",
       "      <td>Biryani, North Indian, Chinese</td>\n",
       "      <td>11 AM to 11 PM</td>\n",
       "    </tr>\n",
       "    <tr>\n",
       "      <th>2</th>\n",
       "      <td>Flechazo</td>\n",
       "      <td>1300</td>\n",
       "      <td>Great Buffets, Hyderabad's Hottest</td>\n",
       "      <td>Asian, Mediterranean, North Indian, Desserts</td>\n",
       "      <td>11:30 AM to 4:30 PM, 6:30 PM to 11 PM</td>\n",
       "    </tr>\n",
       "    <tr>\n",
       "      <th>3</th>\n",
       "      <td>Shah Ghouse Hotel &amp; Restaurant</td>\n",
       "      <td>800</td>\n",
       "      <td>Late Night Restaurants</td>\n",
       "      <td>Biryani, North Indian, Chinese, Seafood, Bever...</td>\n",
       "      <td>12 Noon to 2 AM</td>\n",
       "    </tr>\n",
       "    <tr>\n",
       "      <th>4</th>\n",
       "      <td>Over The Moon Brew Company</td>\n",
       "      <td>1200</td>\n",
       "      <td>Best Bars &amp; Pubs, Food Hygiene Rated Restauran...</td>\n",
       "      <td>Asian, Continental, North Indian, Chinese, Med...</td>\n",
       "      <td>12noon to 11pm (Mon, Tue, Wed, Thu, Sun), 12no...</td>\n",
       "    </tr>\n",
       "  </tbody>\n",
       "</table>\n",
       "</div>"
      ],
      "text/plain": [
       "                  restaurant name  cost  \\\n",
       "0                 Beyond Flavours   800   \n",
       "1                        Paradise   800   \n",
       "2                        Flechazo  1300   \n",
       "3  Shah Ghouse Hotel & Restaurant   800   \n",
       "4      Over The Moon Brew Company  1200   \n",
       "\n",
       "                                         collections  \\\n",
       "0  Food Hygiene Rated Restaurants in Hyderabad, C...   \n",
       "1                                Hyderabad's Hottest   \n",
       "2                 Great Buffets, Hyderabad's Hottest   \n",
       "3                             Late Night Restaurants   \n",
       "4  Best Bars & Pubs, Food Hygiene Rated Restauran...   \n",
       "\n",
       "                                            cuisines  \\\n",
       "0  Chinese, Continental, Kebab, European, South I...   \n",
       "1                     Biryani, North Indian, Chinese   \n",
       "2       Asian, Mediterranean, North Indian, Desserts   \n",
       "3  Biryani, North Indian, Chinese, Seafood, Bever...   \n",
       "4  Asian, Continental, North Indian, Chinese, Med...   \n",
       "\n",
       "                                   operating timings  \n",
       "0      12noon to 3:30pm, 6:30pm to 11:30pm (Mon-Sun)  \n",
       "1                                     11 AM to 11 PM  \n",
       "2              11:30 AM to 4:30 PM, 6:30 PM to 11 PM  \n",
       "3                                    12 Noon to 2 AM  \n",
       "4  12noon to 11pm (Mon, Tue, Wed, Thu, Sun), 12no...  "
      ]
     },
     "execution_count": 17,
     "metadata": {},
     "output_type": "execute_result"
    }
   ],
   "source": [
    "data.head()\n"
   ]
  },
  {
   "cell_type": "code",
   "execution_count": 18,
   "id": "personalized-lincoln",
   "metadata": {},
   "outputs": [
    {
     "data": {
      "text/plain": [
       "collections          54\n",
       "operating timings     1\n",
       "dtype: int64"
      ]
     },
     "execution_count": 18,
     "metadata": {},
     "output_type": "execute_result"
    }
   ],
   "source": [
    "data[['collections','operating timings']].isnull().sum()\n"
   ]
  },
  {
   "cell_type": "code",
   "execution_count": 19,
   "id": "considerable-translator",
   "metadata": {},
   "outputs": [],
   "source": [
    "data.dropna(inplace = True)"
   ]
  },
  {
   "cell_type": "code",
   "execution_count": 20,
   "id": "scheduled-engineering",
   "metadata": {},
   "outputs": [
    {
     "data": {
      "text/html": [
       "<div>\n",
       "<style scoped>\n",
       "    .dataframe tbody tr th:only-of-type {\n",
       "        vertical-align: middle;\n",
       "    }\n",
       "\n",
       "    .dataframe tbody tr th {\n",
       "        vertical-align: top;\n",
       "    }\n",
       "\n",
       "    .dataframe thead th {\n",
       "        text-align: right;\n",
       "    }\n",
       "</style>\n",
       "<table border=\"1\" class=\"dataframe\">\n",
       "  <thead>\n",
       "    <tr style=\"text-align: right;\">\n",
       "      <th></th>\n",
       "      <th>restaurant name</th>\n",
       "      <th>cost</th>\n",
       "      <th>collections</th>\n",
       "      <th>cuisines</th>\n",
       "      <th>operating timings</th>\n",
       "    </tr>\n",
       "  </thead>\n",
       "  <tbody>\n",
       "    <tr>\n",
       "      <th>0</th>\n",
       "      <td>Beyond Flavours</td>\n",
       "      <td>800</td>\n",
       "      <td>Food Hygiene Rated Restaurants in Hyderabad, C...</td>\n",
       "      <td>Chinese, Continental, Kebab, European, South I...</td>\n",
       "      <td>12noon to 3:30pm, 6:30pm to 11:30pm (Mon-Sun)</td>\n",
       "    </tr>\n",
       "    <tr>\n",
       "      <th>1</th>\n",
       "      <td>Paradise</td>\n",
       "      <td>800</td>\n",
       "      <td>Hyderabad's Hottest</td>\n",
       "      <td>Biryani, North Indian, Chinese</td>\n",
       "      <td>11 AM to 11 PM</td>\n",
       "    </tr>\n",
       "    <tr>\n",
       "      <th>2</th>\n",
       "      <td>Flechazo</td>\n",
       "      <td>1300</td>\n",
       "      <td>Great Buffets, Hyderabad's Hottest</td>\n",
       "      <td>Asian, Mediterranean, North Indian, Desserts</td>\n",
       "      <td>11:30 AM to 4:30 PM, 6:30 PM to 11 PM</td>\n",
       "    </tr>\n",
       "    <tr>\n",
       "      <th>3</th>\n",
       "      <td>Shah Ghouse Hotel &amp; Restaurant</td>\n",
       "      <td>800</td>\n",
       "      <td>Late Night Restaurants</td>\n",
       "      <td>Biryani, North Indian, Chinese, Seafood, Bever...</td>\n",
       "      <td>12 Noon to 2 AM</td>\n",
       "    </tr>\n",
       "    <tr>\n",
       "      <th>4</th>\n",
       "      <td>Over The Moon Brew Company</td>\n",
       "      <td>1200</td>\n",
       "      <td>Best Bars &amp; Pubs, Food Hygiene Rated Restauran...</td>\n",
       "      <td>Asian, Continental, North Indian, Chinese, Med...</td>\n",
       "      <td>12noon to 11pm (Mon, Tue, Wed, Thu, Sun), 12no...</td>\n",
       "    </tr>\n",
       "  </tbody>\n",
       "</table>\n",
       "</div>"
      ],
      "text/plain": [
       "                  restaurant name  cost  \\\n",
       "0                 Beyond Flavours   800   \n",
       "1                        Paradise   800   \n",
       "2                        Flechazo  1300   \n",
       "3  Shah Ghouse Hotel & Restaurant   800   \n",
       "4      Over The Moon Brew Company  1200   \n",
       "\n",
       "                                         collections  \\\n",
       "0  Food Hygiene Rated Restaurants in Hyderabad, C...   \n",
       "1                                Hyderabad's Hottest   \n",
       "2                 Great Buffets, Hyderabad's Hottest   \n",
       "3                             Late Night Restaurants   \n",
       "4  Best Bars & Pubs, Food Hygiene Rated Restauran...   \n",
       "\n",
       "                                            cuisines  \\\n",
       "0  Chinese, Continental, Kebab, European, South I...   \n",
       "1                     Biryani, North Indian, Chinese   \n",
       "2       Asian, Mediterranean, North Indian, Desserts   \n",
       "3  Biryani, North Indian, Chinese, Seafood, Bever...   \n",
       "4  Asian, Continental, North Indian, Chinese, Med...   \n",
       "\n",
       "                                   operating timings  \n",
       "0      12noon to 3:30pm, 6:30pm to 11:30pm (Mon-Sun)  \n",
       "1                                     11 AM to 11 PM  \n",
       "2              11:30 AM to 4:30 PM, 6:30 PM to 11 PM  \n",
       "3                                    12 Noon to 2 AM  \n",
       "4  12noon to 11pm (Mon, Tue, Wed, Thu, Sun), 12no...  "
      ]
     },
     "execution_count": 20,
     "metadata": {},
     "output_type": "execute_result"
    }
   ],
   "source": [
    "data.head()"
   ]
  },
  {
   "cell_type": "code",
   "execution_count": 21,
   "id": "coated-stroke",
   "metadata": {},
   "outputs": [
    {
     "data": {
      "text/plain": [
       "(51, 5)"
      ]
     },
     "execution_count": 21,
     "metadata": {},
     "output_type": "execute_result"
    }
   ],
   "source": [
    "data.shape"
   ]
  },
  {
   "cell_type": "code",
   "execution_count": 22,
   "id": "sunrise-response",
   "metadata": {},
   "outputs": [
    {
     "data": {
      "text/plain": [
       "restaurant name      0\n",
       "cost                 0\n",
       "collections          0\n",
       "cuisines             0\n",
       "operating timings    0\n",
       "dtype: int64"
      ]
     },
     "execution_count": 22,
     "metadata": {},
     "output_type": "execute_result"
    }
   ],
   "source": [
    "data.isnull().sum()"
   ]
  },
  {
   "cell_type": "code",
   "execution_count": 23,
   "id": "bound-cattle",
   "metadata": {},
   "outputs": [
    {
     "data": {
      "text/plain": [
       "Beyond Flavours                                      1\n",
       "Komatose - Holiday Inn Express & Suites              1\n",
       "La La Land - Bar & Kitchen                           1\n",
       "Ulavacharu                                           1\n",
       "Shanghai Chef 2                                      1\n",
       "Mathura Vilas                                        1\n",
       "Diners Pavilion                                      1\n",
       "Cafe Eclat                                           1\n",
       "Feast - Sheraton Hyderabad Hotel                     1\n",
       "Tempteys                                             1\n",
       "PourHouse7                                           1\n",
       "Prism Club & Kitchen                                 1\n",
       "Yum Yum Tree - The Arabian Food Court                1\n",
       "The Glass Onion                                      1\n",
       "The Tilt Bar Republic                                1\n",
       "The Indi Grill                                       1\n",
       "Labonel                                              1\n",
       "Squeeze @ The Lime                                   1\n",
       "Khaan Saab                                           1\n",
       "Tandoori Food Works                                  1\n",
       "American Wild Wings                                  1\n",
       "Arena Eleven                                         1\n",
       "Collage - Hyatt Hyderabad Gachibowli                 1\n",
       "Hyderabadi Daawat                                    1\n",
       "The Foodie Monster Kitchen                           1\n",
       "Banana Leaf Multicuisine Restaurant                  1\n",
       "Paradise                                             1\n",
       "The Lal Street - Bar Exchange                        1\n",
       "Flechazo                                             1\n",
       "Shah Ghouse Hotel & Restaurant                       1\n",
       "Over The Moon Brew Company                           1\n",
       "The Fisherman's Wharf                                1\n",
       "eat.fit                                              1\n",
       "Hyper Local                                          1\n",
       "Cream Stone                                          1\n",
       "Sardarji's Chaats & More                             1\n",
       "Barbeque Nation                                      1\n",
       "Absolute Sizzlers                                    1\n",
       "AB's - Absolute Barbecues                            1\n",
       "Mazzo - Marriott Executive Apartments                1\n",
       "10 Downing Street                                    1\n",
       "Pakwaan Grand                                        1\n",
       "13 Dhaba                                             1\n",
       "Jonathan's Kitchen - Holiday Inn Express & Suites    1\n",
       "B-Dubs                                               1\n",
       "SKYHY                                                1\n",
       "Mustang Terrace Lounge                               1\n",
       "3B's - Buddies, Bar & Barbecue                       1\n",
       "Pista House                                          1\n",
       "Marsala Food Company                                 1\n",
       "Republic Of Noodles - Lemon Tree Hotel               1\n",
       "Name: restaurant name, dtype: int64"
      ]
     },
     "execution_count": 23,
     "metadata": {},
     "output_type": "execute_result"
    }
   ],
   "source": [
    "data['restaurant name'].value_counts()"
   ]
  },
  {
   "cell_type": "code",
   "execution_count": 24,
   "id": "valid-decrease",
   "metadata": {},
   "outputs": [
    {
     "data": {
      "text/plain": [
       "1200    6\n",
       "1500    5\n",
       "800     4\n",
       "500     4\n",
       "1000    4\n",
       "1600    3\n",
       "700     3\n",
       "1300    3\n",
       "1400    2\n",
       "600     2\n",
       "1700    2\n",
       "1100    2\n",
       "1900    2\n",
       "400     2\n",
       "350     2\n",
       "450     1\n",
       "750     1\n",
       "2500    1\n",
       "650     1\n",
       "2800    1\n",
       "Name: cost, dtype: int64"
      ]
     },
     "execution_count": 24,
     "metadata": {},
     "output_type": "execute_result"
    }
   ],
   "source": [
    "data['cost'].value_counts()"
   ]
  },
  {
   "cell_type": "code",
   "execution_count": 25,
   "id": "medieval-elevation",
   "metadata": {},
   "outputs": [
    {
     "data": {
      "text/plain": [
       "Food Hygiene Rated Restaurants in Hyderabad                                                                                                       4\n",
       "Great Buffets                                                                                                                                     2\n",
       "Hyderabad's Hottest                                                                                                                               2\n",
       "New on Gold                                                                                                                                       2\n",
       "Pan-Asian Delicacies                                                                                                                              2\n",
       "Veggie Friendly                                                                                                                                   2\n",
       "Trending This Week                                                                                                                                2\n",
       "Sunday Brunches, Great Breakfasts, Function Venues, Ramzan Mubarak                                                                                1\n",
       "Function Venues, Regional Favorites                                                                                                               1\n",
       "Veggie Friendly, Terrific Thalis                                                                                                                  1\n",
       "Great Buffets, Live Sports Screenings                                                                                                             1\n",
       "Sneak Peek Hyderabad                                                                                                                              1\n",
       "Food Hygiene Rated Restaurants in Hyderabad, Corporate Favorites, Great Buffets, Top-Rated, Gold Curated, Live Sports Screenings                  1\n",
       "Best Milkshakes                                                                                                                                   1\n",
       "Great Breakfasts, Late Night Restaurants, Best shawarmas                                                                                          1\n",
       "Happy Hours, Top Drinking Destinations, Corporate Favorites                                                                                       1\n",
       "Sneak Peek Hyderabad, Best Bars & Pubs, Gigs and Events                                                                                           1\n",
       "Happy Hours, Top-Rated, Gold Curated                                                                                                              1\n",
       "Gigs and Events, Corporate Favorites                                                                                                              1\n",
       "Food Hygiene Rated Restaurants in Hyderabad, Great Buffets, Hyderabad's Hottest                                                                   1\n",
       "Best Bakeries                                                                                                                                     1\n",
       "Brilliant Biryanis                                                                                                                                1\n",
       "Great Buffets, Trending This Week                                                                                                                 1\n",
       "Mandi, Great Buffets, The ‘Must Visit’ Eateries                                                                                                   1\n",
       "Fancy and Fun                                                                                                                                     1\n",
       "Top-Rated, Gold Curated, Fancy and Fun                                                                                                            1\n",
       "Great Buffets, Hyderabad's Hottest                                                                                                                1\n",
       "Late Night Restaurants                                                                                                                            1\n",
       "Best Bars & Pubs, Food Hygiene Rated Restaurants in Hyderabad, Top-Rated, Gold Curated, Hyderabad's Hottest                                       1\n",
       "Sunday Brunches, Corporate Favorites, Great Buffets, Hyderabad's Hottest, Food Hygiene Rated Restaurants in Hyderabad, Top-Rated, Gold Curated    1\n",
       "Great Buffets, Live Sports Screenings, Best Bars & Pubs, Trending This Week                                                                       1\n",
       "Frozen Delights                                                                                                                                   1\n",
       "Street Food, Veggie Friendly, Pocket Friendly                                                                                                     1\n",
       "Barbecue & Grill                                                                                                                                  1\n",
       "Corporate Favorites, Happy Hours, Live Sports Screenings, Rooftops, Trending This Week                                                            1\n",
       "Barbecue & Grill, Great Buffets, Corporate Favorites, Hyderabad's Hottest                                                                         1\n",
       "Great Italian, Sunday Brunches                                                                                                                    1\n",
       "Live Sports Screenings, Gigs and Events                                                                                                           1\n",
       "Rooftops, Live Sports Screenings, Best Bars & Pubs                                                                                                1\n",
       "Barbecue & Grill, Live Sports Screenings                                                                                                          1\n",
       "Haleem                                                                                                                                            1\n",
       "Sunday Brunches                                                                                                                                   1\n",
       "Name: collections, dtype: int64"
      ]
     },
     "execution_count": 25,
     "metadata": {},
     "output_type": "execute_result"
    }
   ],
   "source": [
    "data['collections'].value_counts()"
   ]
  },
  {
   "cell_type": "code",
   "execution_count": 26,
   "id": "pediatric-portal",
   "metadata": {},
   "outputs": [
    {
     "data": {
      "text/plain": [
       "North Indian, Chinese, Continental                                   2\n",
       "Chinese, Continental, Kebab, European, South Indian, North Indian    1\n",
       "North Indian, Chinese, Japanese, Sushi                               1\n",
       "Andhra, North Indian, Chinese                                        1\n",
       "Chinese, Thai, Indonesian, Asian                                     1\n",
       "South Indian, North Indian, Chinese                                  1\n",
       "Chinese, Continental, Italian                                        1\n",
       "Cafe, Bakery                                                         1\n",
       "Modern Indian, Asian, Continental, Italian                           1\n",
       "Desserts, Beverages                                                  1\n",
       "North Indian, Continental, Chinese, Italian                          1\n",
       "Kebab, Continental, Italian, North Indian                            1\n",
       "North Indian, Hyderabadi                                             1\n",
       "American, Wraps, Desserts                                            1\n",
       "North Indian, Continental, Italian                                   1\n",
       "BBQ, Asian, Modern Indian                                            1\n",
       "Bakery, Desserts                                                     1\n",
       "Italian, North Indian, Chinese, Salad                                1\n",
       "North Indian, Mughlai                                                1\n",
       "North Indian, Burger, Kebab                                          1\n",
       "American, Fast Food, Salad, Burger                                   1\n",
       "Continental                                                          1\n",
       "Continental, Italian, North Indian, Chinese, Asian                   1\n",
       "Hyderabadi, Chinese, Mughlai                                         1\n",
       "Finger Food, North Indian, Kebab, Chinese                            1\n",
       "North Indian, Continental, Italian, Asian                            1\n",
       "Biryani, North Indian, Chinese                                       1\n",
       "Biryani, South Indian, North Indian, Chinese, Andhra                 1\n",
       "Asian, Mediterranean, North Indian, Desserts                         1\n",
       "Biryani, North Indian, Chinese, Seafood, Beverages                   1\n",
       "Asian, Continental, North Indian, Chinese, Mediterranean             1\n",
       "Seafood, Goan, North Indian, Continental, Asian                      1\n",
       "Healthy Food, North Indian, Continental, South Indian                1\n",
       "American, Chinese, North Indian, Kebab, South Indian                 1\n",
       "Ice Cream, Desserts                                                  1\n",
       "Street Food, North Indian, Fast Food                                 1\n",
       "Mediterranean, North Indian, Kebab, BBQ                              1\n",
       "Continental, American, Chinese                                       1\n",
       "North Indian, Italian, Finger Food                                   1\n",
       "European, Mediterranean, North Indian                                1\n",
       "North Indian, Chinese, Biryani                                       1\n",
       "North Indian                                                         1\n",
       "North Indian, Japanese, Italian, Salad, Sushi                        1\n",
       "American                                                             1\n",
       "Mexican, Italian, North Indian, Chinese, Salad                       1\n",
       "North Indian, Mediterranean, European                                1\n",
       "Bakery, North Indian, Mughlai, Juices, Chinese                       1\n",
       "Arabian, North Indian, Chinese                                       1\n",
       "Italian, North Indian, South Indian, Asian                           1\n",
       "Thai, Asian, Chinese, Malaysian                                      1\n",
       "Name: cuisines, dtype: int64"
      ]
     },
     "execution_count": 26,
     "metadata": {},
     "output_type": "execute_result"
    }
   ],
   "source": [
    "data['cuisines'].value_counts()"
   ]
  },
  {
   "cell_type": "code",
   "execution_count": 27,
   "id": "concrete-pursuit",
   "metadata": {},
   "outputs": [
    {
     "data": {
      "text/plain": [
       "12 Noon to 12 Midnight                                                                                                                                                      4\n",
       "12noon to 12midnight (Mon-Sun)                                                                                                                                              2\n",
       "12 Noon to 11 PM                                                                                                                                                            2\n",
       "12 Noon to 11:30 PM                                                                                                                                                         2\n",
       "12noon to 11pm (Mon, Tue, Wed, Thu, Sun), 12noon to 12midnight (Fri-Sat)                                                                                                    2\n",
       "12 Noon to 12 Midnight (Mon-Thu, Sun), 12 Noon to 1 AM (Fri-Sat)                                                                                                            2\n",
       "11:30 AM to 1 AM                                                                                                                                                            2\n",
       "11:30 AM to 3:30 PM, 6:45 PM to 11:30 PM                                                                                                                                    1\n",
       "12noon to 4:30pm, 6:30pm to 11:30pm (Mon, Tue, Wed, Fri, Sat), Closed (Thu),12noon to 12midnight (Sun)                                                                      1\n",
       "8 AM to 11:30 PM                                                                                                                                                            1\n",
       "6:30am to 10:30am, 12:30pm to 3pm, 7pm to 11pm (Mon),6:30am to 10:30am, 12:30pm to 3pm, 7:30pm to 11pm (Tue-Sat),6:30am to 10:30am, 12:30pm to 3:30pm, 7pm to 11pm (Sun)    1\n",
       "5pm to 12midnight (Mon-Sun)                                                                                                                                                 1\n",
       "1 PM to 11 PM                                                                                                                                                               1\n",
       "12noon to 3:30pm, 6:30pm to 11:30pm (Mon-Sun)                                                                                                                               1\n",
       "12noon to 11pm (Mon-Sun)                                                                                                                                                    1\n",
       "12:30 PM to 3:30 PM, 7 PM to 10:40 PM                                                                                                                                       1\n",
       "11 AM to 8 PM (Mon-Sat), Sun Closed                                                                                                                                         1\n",
       "7 AM to 10:30 AM, 12:30 PM to 3:30 PM, 7 PM to 11 PM                                                                                                                        1\n",
       "12 Noon to 3:30 PM, 7 PM to 11:30 PM                                                                                                                                        1\n",
       "12noon to 12midnight (Mon, Tue, Wed, Thu, Sun), 12noon to 1am (Fri-Sat)                                                                                                     1\n",
       "12 Noon to 4 AM                                                                                                                                                             1\n",
       "24 Hours (Mon-Sun)                                                                                                                                                          1\n",
       "12:30pm to 11:30pm (Mon-Sun)                                                                                                                                                1\n",
       "7 AM to 1 AM                                                                                                                                                                1\n",
       "11 AM to 12 Midnight                                                                                                                                                        1\n",
       "6am to 12midnight (Mon-Sun)                                                                                                                                                 1\n",
       "12 Noon to 3:30 PM, 6:30 PM to 11:30 PM                                                                                                                                     1\n",
       "11:30 AM to 4:30 PM, 6:30 PM to 11 PM                                                                                                                                       1\n",
       "12 Noon to 2 AM                                                                                                                                                             1\n",
       "12Noon to 3:30PM, 4PM to 6:30PM, 7PM to 11:30PM (Mon, Tue, Wed, Thu, Sun), 12Noon to 3:30PM, 4PM to 6:30PM, 7PM to 12Midnight (Fri-Sat)                                     1\n",
       "7 AM to 10 PM                                                                                                                                                               1\n",
       "10 AM to 1 AM (Mon-Thu), 10 AM to 1:30 AM (Fri-Sun)                                                                                                                         1\n",
       "12 Noon to 3:30 PM, 7 PM to 10:30 PM                                                                                                                                        1\n",
       "12 Noon to 4:30 PM, 6:30 PM to 11:30 PM                                                                                                                                     1\n",
       "12noon to 4pm, 7pm to 12midnight (Mon-Sun)                                                                                                                                  1\n",
       "12:30 PM to 10 PM (Tue-Sun), Mon Closed                                                                                                                                     1\n",
       "11:30 AM to 3 PM, 7 PM to 11 PM                                                                                                                                             1\n",
       "11am to 11:30pm (Mon, Tue, Wed, Thu, Sun), 11am to 12midnight (Fri-Sat)                                                                                                     1\n",
       "12 Noon to 11:30 PM (Mon-Wed), 12 Noon to 1 AM (Fri-Sat), 12 Noon to 12 Midnight (Sun), Thu Closed                                                                          1\n",
       "12 Noon to 4 PM, 6:30 PM to 11:30 PM                                                                                                                                        1\n",
       "11 AM to 11 PM                                                                                                                                                              1\n",
       "11:30 AM to 3 PM, 7 PM to 12 Midnight                                                                                                                                       1\n",
       "Name: operating timings, dtype: int64"
      ]
     },
     "execution_count": 27,
     "metadata": {},
     "output_type": "execute_result"
    }
   ],
   "source": [
    "data['operating timings'].value_counts()"
   ]
  },
  {
   "cell_type": "code",
   "execution_count": 28,
   "id": "floral-manitoba",
   "metadata": {},
   "outputs": [
    {
     "data": {
      "text/html": [
       "<div>\n",
       "<style scoped>\n",
       "    .dataframe tbody tr th:only-of-type {\n",
       "        vertical-align: middle;\n",
       "    }\n",
       "\n",
       "    .dataframe tbody tr th {\n",
       "        vertical-align: top;\n",
       "    }\n",
       "\n",
       "    .dataframe thead th {\n",
       "        text-align: right;\n",
       "    }\n",
       "</style>\n",
       "<table border=\"1\" class=\"dataframe\">\n",
       "  <thead>\n",
       "    <tr style=\"text-align: right;\">\n",
       "      <th></th>\n",
       "      <th>restaurant name</th>\n",
       "      <th>cost</th>\n",
       "      <th>collections</th>\n",
       "      <th>cuisines</th>\n",
       "      <th>operating timings</th>\n",
       "    </tr>\n",
       "  </thead>\n",
       "  <tbody>\n",
       "    <tr>\n",
       "      <th>0</th>\n",
       "      <td>Beyond Flavours</td>\n",
       "      <td>800</td>\n",
       "      <td>Food Hygiene Rated Restaurants in Hyderabad, C...</td>\n",
       "      <td>Chinese, Continental, Kebab, European, South I...</td>\n",
       "      <td>12noon to 3:30pm, 6:30pm to 11:30pm (Mon-Sun)</td>\n",
       "    </tr>\n",
       "    <tr>\n",
       "      <th>1</th>\n",
       "      <td>Paradise</td>\n",
       "      <td>800</td>\n",
       "      <td>Hyderabad's Hottest</td>\n",
       "      <td>Biryani, North Indian, Chinese</td>\n",
       "      <td>11 AM to 11 PM</td>\n",
       "    </tr>\n",
       "    <tr>\n",
       "      <th>2</th>\n",
       "      <td>Flechazo</td>\n",
       "      <td>1300</td>\n",
       "      <td>Great Buffets, Hyderabad's Hottest</td>\n",
       "      <td>Asian, Mediterranean, North Indian, Desserts</td>\n",
       "      <td>11:30 AM to 4:30 PM, 6:30 PM to 11 PM</td>\n",
       "    </tr>\n",
       "    <tr>\n",
       "      <th>3</th>\n",
       "      <td>Shah Ghouse Hotel &amp; Restaurant</td>\n",
       "      <td>800</td>\n",
       "      <td>Late Night Restaurants</td>\n",
       "      <td>Biryani, North Indian, Chinese, Seafood, Bever...</td>\n",
       "      <td>12 Noon to 2 AM</td>\n",
       "    </tr>\n",
       "    <tr>\n",
       "      <th>4</th>\n",
       "      <td>Over The Moon Brew Company</td>\n",
       "      <td>1200</td>\n",
       "      <td>Best Bars &amp; Pubs, Food Hygiene Rated Restauran...</td>\n",
       "      <td>Asian, Continental, North Indian, Chinese, Med...</td>\n",
       "      <td>12noon to 11pm (Mon, Tue, Wed, Thu, Sun), 12no...</td>\n",
       "    </tr>\n",
       "  </tbody>\n",
       "</table>\n",
       "</div>"
      ],
      "text/plain": [
       "                  restaurant name  cost  \\\n",
       "0                 Beyond Flavours   800   \n",
       "1                        Paradise   800   \n",
       "2                        Flechazo  1300   \n",
       "3  Shah Ghouse Hotel & Restaurant   800   \n",
       "4      Over The Moon Brew Company  1200   \n",
       "\n",
       "                                         collections  \\\n",
       "0  Food Hygiene Rated Restaurants in Hyderabad, C...   \n",
       "1                                Hyderabad's Hottest   \n",
       "2                 Great Buffets, Hyderabad's Hottest   \n",
       "3                             Late Night Restaurants   \n",
       "4  Best Bars & Pubs, Food Hygiene Rated Restauran...   \n",
       "\n",
       "                                            cuisines  \\\n",
       "0  Chinese, Continental, Kebab, European, South I...   \n",
       "1                     Biryani, North Indian, Chinese   \n",
       "2       Asian, Mediterranean, North Indian, Desserts   \n",
       "3  Biryani, North Indian, Chinese, Seafood, Bever...   \n",
       "4  Asian, Continental, North Indian, Chinese, Med...   \n",
       "\n",
       "                                   operating timings  \n",
       "0      12noon to 3:30pm, 6:30pm to 11:30pm (Mon-Sun)  \n",
       "1                                     11 AM to 11 PM  \n",
       "2              11:30 AM to 4:30 PM, 6:30 PM to 11 PM  \n",
       "3                                    12 Noon to 2 AM  \n",
       "4  12noon to 11pm (Mon, Tue, Wed, Thu, Sun), 12no...  "
      ]
     },
     "execution_count": 28,
     "metadata": {},
     "output_type": "execute_result"
    }
   ],
   "source": [
    "data.head()"
   ]
  },
  {
   "cell_type": "code",
   "execution_count": 29,
   "id": "inclusive-momentum",
   "metadata": {},
   "outputs": [
    {
     "data": {
      "text/plain": [
       "restaurant name      47\n",
       "cost                 47\n",
       "collections          47\n",
       "cuisines             47\n",
       "operating timings    47\n",
       "dtype: int64"
      ]
     },
     "execution_count": 29,
     "metadata": {},
     "output_type": "execute_result"
    }
   ],
   "source": [
    "data[data['cost'] != 800].count()"
   ]
  },
  {
   "cell_type": "code",
   "execution_count": 30,
   "id": "unlikely-console",
   "metadata": {},
   "outputs": [
    {
     "data": {
      "text/plain": [
       "restaurant name      4\n",
       "cost                 4\n",
       "collections          4\n",
       "cuisines             4\n",
       "operating timings    4\n",
       "dtype: int64"
      ]
     },
     "execution_count": 30,
     "metadata": {},
     "output_type": "execute_result"
    }
   ],
   "source": [
    "data[data['cost'] == 800].count()"
   ]
  },
  {
   "cell_type": "code",
   "execution_count": 31,
   "id": "initial-globe",
   "metadata": {},
   "outputs": [
    {
     "data": {
      "text/html": [
       "<div>\n",
       "<style scoped>\n",
       "    .dataframe tbody tr th:only-of-type {\n",
       "        vertical-align: middle;\n",
       "    }\n",
       "\n",
       "    .dataframe tbody tr th {\n",
       "        vertical-align: top;\n",
       "    }\n",
       "\n",
       "    .dataframe thead th {\n",
       "        text-align: right;\n",
       "    }\n",
       "</style>\n",
       "<table border=\"1\" class=\"dataframe\">\n",
       "  <thead>\n",
       "    <tr style=\"text-align: right;\">\n",
       "      <th></th>\n",
       "      <th>cost</th>\n",
       "    </tr>\n",
       "  </thead>\n",
       "  <tbody>\n",
       "    <tr>\n",
       "      <th>count</th>\n",
       "      <td>51.000000</td>\n",
       "    </tr>\n",
       "    <tr>\n",
       "      <th>mean</th>\n",
       "      <td>1112.745098</td>\n",
       "    </tr>\n",
       "    <tr>\n",
       "      <th>std</th>\n",
       "      <td>537.107358</td>\n",
       "    </tr>\n",
       "    <tr>\n",
       "      <th>min</th>\n",
       "      <td>350.000000</td>\n",
       "    </tr>\n",
       "    <tr>\n",
       "      <th>25%</th>\n",
       "      <td>700.000000</td>\n",
       "    </tr>\n",
       "    <tr>\n",
       "      <th>50%</th>\n",
       "      <td>1100.000000</td>\n",
       "    </tr>\n",
       "    <tr>\n",
       "      <th>75%</th>\n",
       "      <td>1500.000000</td>\n",
       "    </tr>\n",
       "    <tr>\n",
       "      <th>max</th>\n",
       "      <td>2800.000000</td>\n",
       "    </tr>\n",
       "  </tbody>\n",
       "</table>\n",
       "</div>"
      ],
      "text/plain": [
       "              cost\n",
       "count    51.000000\n",
       "mean   1112.745098\n",
       "std     537.107358\n",
       "min     350.000000\n",
       "25%     700.000000\n",
       "50%    1100.000000\n",
       "75%    1500.000000\n",
       "max    2800.000000"
      ]
     },
     "execution_count": 31,
     "metadata": {},
     "output_type": "execute_result"
    }
   ],
   "source": [
    "data.describe()"
   ]
  },
  {
   "cell_type": "code",
   "execution_count": 38,
   "id": "grateful-convention",
   "metadata": {},
   "outputs": [
    {
     "data": {
      "text/plain": [
       "{'Chinese': 24,\n",
       " 'Continental': 15,\n",
       " 'Kebab': 6,\n",
       " 'European': 3,\n",
       " 'South Indian': 6,\n",
       " 'North Indian': 36,\n",
       " 'Biryani': 4,\n",
       " 'Asian': 10,\n",
       " 'Mediterranean': 5,\n",
       " 'Desserts': 5,\n",
       " 'Seafood': 2,\n",
       " 'Beverages': 2,\n",
       " 'Goan': 1,\n",
       " 'Healthy Food': 1,\n",
       " 'American': 5,\n",
       " 'Ice Cream': 1,\n",
       " 'Street Food': 1,\n",
       " 'Fast Food': 2,\n",
       " 'BBQ': 2,\n",
       " 'Italian': 12,\n",
       " 'Finger Food': 2,\n",
       " 'Japanese': 2,\n",
       " 'Salad': 4,\n",
       " 'Sushi': 2,\n",
       " 'Mexican': 1,\n",
       " 'Bakery': 3,\n",
       " 'Mughlai': 3,\n",
       " 'Juices': 1,\n",
       " 'Arabian': 1,\n",
       " 'Andhra': 2,\n",
       " 'Wraps': 1,\n",
       " 'Thai': 2,\n",
       " 'Indonesian': 1,\n",
       " 'Cafe': 1,\n",
       " 'Modern Indian': 2,\n",
       " 'Hyderabadi': 2,\n",
       " 'Burger': 2,\n",
       " 'Malaysian': 1}"
      ]
     },
     "execution_count": 38,
     "metadata": {},
     "output_type": "execute_result"
    }
   ],
   "source": [
    "Cuisines = data[['restaurant name', 'cuisines']].drop_duplicates()\n",
    "\n",
    "\n",
    "# Lets make a dictionary for the unique cuisines in the dataset\n",
    "\n",
    "cuisines_dict = {}\n",
    "for cuisine in Cuisines['cuisines']:\n",
    "    for name in cuisine.split(', '):\n",
    "        if name in cuisines_dict:\n",
    "            cuisines_dict[name] = cuisines_dict[name] + 1\n",
    "        else:\n",
    "            cuisines_dict[name] = 1\n",
    "cuisines_dict"
   ]
  },
  {
   "cell_type": "code",
   "execution_count": 39,
   "id": "pursuant-waste",
   "metadata": {},
   "outputs": [
    {
     "data": {
      "text/plain": [
       "[Text(0, 0, 'North Indian'),\n",
       " Text(1, 0, 'Chinese'),\n",
       " Text(2, 0, 'Continental'),\n",
       " Text(3, 0, 'Italian'),\n",
       " Text(4, 0, 'Asian'),\n",
       " Text(5, 0, 'South Indian'),\n",
       " Text(6, 0, 'Kebab'),\n",
       " Text(7, 0, 'American'),\n",
       " Text(8, 0, 'Mediterranean'),\n",
       " Text(9, 0, 'Desserts')]"
      ]
     },
     "execution_count": 39,
     "metadata": {},
     "output_type": "execute_result"
    },
    {
     "data": {
      "image/png": "[encoded data removed]",
      "text/plain": [
       "<Figure size 432x288 with 1 Axes>"
      ]
     },
     "metadata": {
      "needs_background": "light"
     },
     "output_type": "display_data"
    }
   ],
   "source": [
    "cuisine_df = pd.DataFrame(cuisines_dict.items(), columns = ['Cuisines', 'Count']).sort_values(['Count'], ascending = False).head(10)\n",
    "\n",
    "\n",
    "chart = sns.barplot(x = 'Cuisines', y = 'Count', data = cuisine_df, palette = 'OrRd')\n",
    "chart.set_xlabel('Cuisines')\n",
    "chart.set_ylabel('Number of Availability')\n",
    "chart.set_xticklabels(chart.get_xticklabels(),\n",
    "                      rotation = 45)"
   ]
  },
  {
   "cell_type": "code",
   "execution_count": 40,
   "id": "primary-sheffield",
   "metadata": {},
   "outputs": [
    {
     "data": {
      "text/html": [
       "<div>\n",
       "<style scoped>\n",
       "    .dataframe tbody tr th:only-of-type {\n",
       "        vertical-align: middle;\n",
       "    }\n",
       "\n",
       "    .dataframe tbody tr th {\n",
       "        vertical-align: top;\n",
       "    }\n",
       "\n",
       "    .dataframe thead th {\n",
       "        text-align: right;\n",
       "    }\n",
       "</style>\n",
       "<table border=\"1\" class=\"dataframe\">\n",
       "  <thead>\n",
       "    <tr style=\"text-align: right;\">\n",
       "      <th></th>\n",
       "      <th>cost</th>\n",
       "    </tr>\n",
       "  </thead>\n",
       "  <tbody>\n",
       "    <tr>\n",
       "      <th>cost</th>\n",
       "      <td>1.0</td>\n",
       "    </tr>\n",
       "  </tbody>\n",
       "</table>\n",
       "</div>"
      ],
      "text/plain": [
       "      cost\n",
       "cost   1.0"
      ]
     },
     "execution_count": 40,
     "metadata": {},
     "output_type": "execute_result"
    }
   ],
   "source": [
    "data.corr()"
   ]
  },
  {
   "cell_type": "code",
   "execution_count": null,
   "id": "closed-vaccine",
   "metadata": {},
   "outputs": [],
   "source": []
  }
 ],
 "metadata": {
  "kernelspec": {
   "display_name": "Python 3",
   "language": "python",
   "name": "python3"
  },
  "language_info": {
   "codemirror_mode": {
    "name": "ipython",
    "version": 3
   },
   "file_extension": ".py",
   "mimetype": "text/x-python",
   "name": "python",
   "nbconvert_exporter": "python",
   "pygments_lexer": "ipython3",
   "version": "3.9.5"
  }
 },
 "nbformat": 4,
 "nbformat_minor": 5
}
